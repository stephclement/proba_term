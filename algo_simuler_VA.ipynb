{
 "cells": [
  {
   "cell_type": "markdown",
   "metadata": {},
   "source": [
    "---\n",
    "\n",
    "**Domaine** : probabilité\n",
    "\n",
    "**Secteur** : Concentration et loi des grands nombres\n",
    "\n",
    "**Exemple d'algorithmes** : \n",
    "\n",
    "Simuler $N$ échantillons de taille $n$ d’une variable aléatoire d’espérance $\\mu$ et d’écart type $\\sigma$. Calculer l’écart type $s$ de la série des moyennes des échantillons observés, à comparer à $\\frac{\\sigma}{\\sqrt{n}}$.\n",
    "%  la proportion des échantillons pour lesquels l’écart entre la moyenne et $\\mu$ est inférieur ou égal à $ks$, ou à 𝑘𝜎/√𝑛, pour 𝑘=1,2,3.\n",
    "\n",
    "---\n",
    "\n",
    "Soit une variable aléatoire $X$ dont on connait la loi de probabilité.\n",
    "\n",
    "| $k$ | -1            |     1           |   10       |\n",
    "|---- |:------------: |: -------------: |: ---------: |\n",
    "| $P(X=k)$| 0.9           |        0.15       |      0.05 |\n",
    "\n"
   ]
  },
  {
   "cell_type": "code",
   "execution_count": 2,
   "metadata": {},
   "outputs": [],
   "source": [
    "X=[-1,1,10]\n",
    "P=[0.8,0.15,0.05]"
   ]
  },
  {
   "cell_type": "markdown",
   "metadata": {},
   "source": [
    "# Calcul du couple $(\\mu, \\sigma)$\n",
    "1. Déterminons dans un premier temps l'espérance $\\mu$ de cette loi."
   ]
  },
  {
   "cell_type": "code",
   "execution_count": 3,
   "metadata": {},
   "outputs": [],
   "source": [
    "def mu(X, P):\n",
    "    \"\"\"Renvoie l'espérance mathématique d'une loi de probabilité discrète \"\"\"\n",
    "    n = len(X)\n",
    "    esperance = 0\n",
    "    for i in range(n):\n",
    "        esperance = esperance + X[i] * P[i]\n",
    "    return esperance"
   ]
  },
  {
   "cell_type": "code",
   "execution_count": 4,
   "metadata": {},
   "outputs": [
    {
     "data": {
      "text/plain": [
       "-0.15000000000000002"
      ]
     },
     "execution_count": 4,
     "metadata": {},
     "output_type": "execute_result"
    }
   ],
   "source": [
    "mu(X, P)"
   ]
  },
  {
   "cell_type": "markdown",
   "metadata": {},
   "source": [
    "2. Déterminons la variance $V$ puis l'écart type $\\sigma$ de cette variable aléatoire $X$."
   ]
  },
  {
   "cell_type": "code",
   "execution_count": 5,
   "metadata": {},
   "outputs": [],
   "source": [
    "def var(X,P):\n",
    "    \"\"\"Renvoie la variance d'une loi de probabilité discrète \"\"\"\n",
    "    n = len(X)\n",
    "    esperance = mu(X,P)\n",
    "    variance = 0\n",
    "    for i in range(n):\n",
    "        variance = variance + P[i]*(X[i]-esperance)**2\n",
    "    return variance"
   ]
  },
  {
   "cell_type": "code",
   "execution_count": 6,
   "metadata": {},
   "outputs": [
    {
     "data": {
      "text/plain": [
       "5.9275"
      ]
     },
     "execution_count": 6,
     "metadata": {},
     "output_type": "execute_result"
    }
   ],
   "source": [
    "var(X, P)"
   ]
  },
  {
   "cell_type": "code",
   "execution_count": 7,
   "metadata": {},
   "outputs": [],
   "source": [
    "from math import sqrt\n",
    "def sigma(X, P):\n",
    "    \"\"\"Renvoie l'écart type d'une loi de probabilité discrète \"\"\"\n",
    "    return sqrt(var(X,P))"
   ]
  },
  {
   "cell_type": "code",
   "execution_count": 8,
   "metadata": {},
   "outputs": [
    {
     "data": {
      "text/plain": [
       "2.43464576478797"
      ]
     },
     "execution_count": 8,
     "metadata": {},
     "output_type": "execute_result"
    }
   ],
   "source": [
    "sigma(X, P)"
   ]
  },
  {
   "cell_type": "markdown",
   "metadata": {},
   "source": [
    "# Simulation de la variable aléatoire \n",
    "\n",
    "1. Simulation d'un tirage"
   ]
  },
  {
   "cell_type": "code",
   "execution_count": 9,
   "metadata": {},
   "outputs": [],
   "source": [
    "from random import random\n",
    "\n",
    "def simulation(X, P):\n",
    "    n = len(X)\n",
    "    tirage = random()\n",
    "    inf = 0\n",
    "    sup = P[0]\n",
    "    for i in range(n) :\n",
    "        if inf <= tirage and tirage <= sup :\n",
    "            return X[i]\n",
    "        inf = inf + P[i]\n",
    "        sup = sup + P[i+1]"
   ]
  },
  {
   "cell_type": "markdown",
   "metadata": {},
   "source": [
    "   2. Simulons $n$ tirages dans une fonction "
   ]
  },
  {
   "cell_type": "code",
   "execution_count": 10,
   "metadata": {},
   "outputs": [],
   "source": [
    "def echantillon(X, P, n):\n",
    "    \"\"\"\n",
    "    Simulation d'un échantillon de taille N de la v.a X\n",
    "    n est la taille de l'échantillon\n",
    "    \"\"\"\n",
    "    list = []\n",
    "    for i in range(n):\n",
    "        k = simulation(X, P)\n",
    "        list.append(k)\n",
    "    return list"
   ]
  },
  {
   "cell_type": "code",
   "execution_count": 11,
   "metadata": {},
   "outputs": [],
   "source": [
    "def moyenne(list):\n",
    "    \"\"\" \n",
    "    n est la taille de l'échantillon \n",
    "    renvoie la moyenne d'une série générer aléatoirement\n",
    "    \"\"\"\n",
    "    n = len(list)\n",
    "    total = 0\n",
    "    for valeur in list :\n",
    "        total = total + valeur\n",
    "    return total/n"
   ]
  },
  {
   "cell_type": "code",
   "execution_count": 12,
   "metadata": {},
   "outputs": [
    {
     "data": {
      "text/plain": [
       "-0.09"
      ]
     },
     "execution_count": 12,
     "metadata": {},
     "output_type": "execute_result"
    }
   ],
   "source": [
    "moyenne(echantillon(X, P, 1000))"
   ]
  },
  {
   "cell_type": "markdown",
   "metadata": {},
   "source": [
    "# Moyenne et écart type de la série\n",
    "\n",
    "Il nous faut générer une série de moyenne de taille $N$. \n"
   ]
  },
  {
   "cell_type": "code",
   "execution_count": 13,
   "metadata": {},
   "outputs": [],
   "source": [
    "def serie_moyenne(X, P, n, N):\n",
    "    \"\"\"\n",
    "    n = taille des échantillons\n",
    "    N = nombre d'échantillons\n",
    "    Renvoie une série de N moyenne générer aléatoirement\n",
    "    \"\"\"\n",
    "    serie=[]\n",
    "    for i in range(N):\n",
    "        serie.append(moyenne(echantillon(X,P,1000)))\n",
    "    return serie"
   ]
  },
  {
   "cell_type": "code",
   "execution_count": 14,
   "metadata": {},
   "outputs": [
    {
     "name": "stdout",
     "output_type": "stream",
     "text": [
      "[-0.121, -0.158, -0.11, -0.236, -0.164, -0.238, -0.088, -0.182, -0.19, -0.037, -0.113, -0.086, -0.027, -0.166, -0.077, -0.174, -0.119, -0.058, -0.2, -0.012, -0.087, -0.149, -0.121, -0.23, -0.092, -0.132, -0.22, -0.185, -0.064, -0.15, -0.018, -0.206, -0.194, -0.276, -0.075, -0.087, -0.086, -0.101, 0.01, -0.138, -0.137, -0.206, -0.148, -0.211, -0.182, -0.206, -0.115, -0.229, -0.241, -0.246, -0.235, -0.209, -0.17, -0.196, -0.146, -0.177, -0.138, -0.129, -0.124, -0.184, -0.154, -0.141, -0.282, 0.053, -0.33, -0.17, -0.116, -0.092, -0.052, -0.022, -0.094, -0.184, -0.223, -0.068, -0.265, -0.137, -0.198, -0.125, -0.149, -0.251, -0.142, -0.178, -0.182, -0.168, -0.23, -0.131, -0.14, -0.076, -0.139, -0.24, -0.103, -0.271, -0.189, -0.21, -0.15, -0.264, -0.165, -0.119, -0.172, -0.141, 0.066, -0.218, -0.309, -0.184, -0.248, -0.149, -0.031, -0.007, -0.083, -0.099, -0.128, 0.009, -0.253, -0.226, -0.107, -0.066, -0.165, -0.206, -0.227, -0.17, -0.298, -0.099, -0.172, -0.149, -0.183, -0.038, -0.104, -0.148, -0.039, -0.119, -0.153, -0.099, -0.205, -0.185, -0.001, -0.103, -0.05, -0.268, -0.09, -0.127, -0.142, -0.124, -0.17, -0.172, -0.19, -0.174, -0.091, -0.014, -0.245, -0.252, -0.004, -0.156, -0.095, -0.244, -0.117, -0.1, -0.201, -0.311, -0.265, -0.209, -0.222, -0.22, -0.207, -0.114, -0.065, -0.119, -0.152, -0.135, -0.09, -0.195, -0.102, -0.132, -0.207, -0.05, -0.075, -0.174, -0.198, -0.249, -0.173, -0.092, -0.009, -0.278, -0.138, -0.144, -0.111, -0.098, -0.195, -0.091, -0.08, -0.072, -0.251, -0.171, -0.045, -0.155, -0.129, -0.249, -0.133, -0.144, -0.261, -0.101]\n"
     ]
    }
   ],
   "source": [
    "l=serie_moyenne(X,P,1000,200)\n",
    "print(l)"
   ]
  },
  {
   "cell_type": "markdown",
   "metadata": {},
   "source": [
    "Il nous reste à comparer $\\sigma$ l'écart type de la loi (théorie) à l'écart type $s$ de cette série des moyennes."
   ]
  },
  {
   "cell_type": "code",
   "execution_count": 15,
   "metadata": {},
   "outputs": [],
   "source": [
    "def variance_list(list):\n",
    "    \"\"\" Renvoie la variance d'une série statistique \"\"\"\n",
    "    somme_carre = 0\n",
    "    x_bar = moyenne(list)\n",
    "    for valeur in list :\n",
    "        somme_carre = somme_carre + (valeur-x_bar)**2\n",
    "    return somme_carre / len(list)\n",
    "\n",
    "def sigma_list(list):\n",
    "    \"\"\" Renvoie l'écart type d'une série statistique \"\"\"\n",
    "    return sqrt(variance_list(list))"
   ]
  },
  {
   "cell_type": "code",
   "execution_count": 16,
   "metadata": {},
   "outputs": [
    {
     "name": "stdout",
     "output_type": "stream",
     "text": [
      "2.0\n",
      "1.4142135623730951\n"
     ]
    }
   ],
   "source": [
    "# Exemple pour vérifier\n",
    "print(variance_list([1,2,3,4,5]))\n",
    "print(sigma_list([1,2,3,4,5]))"
   ]
  },
  {
   "cell_type": "markdown",
   "metadata": {},
   "source": [
    "# Cherchons à conclure sur : calculer l’écart type $s$ de la série des moyennes des échantillons observés, à comparer à $\\frac{\\sigma}{\\sqrt{n}}$.\n",
    "\n",
    "3. Calculons l'écart type de ce tirage $l$, il est à comparer à l'écart type trouvé divisé par $\\sqrt{n}$."
   ]
  },
  {
   "cell_type": "code",
   "execution_count": 17,
   "metadata": {},
   "outputs": [
    {
     "name": "stdout",
     "output_type": "stream",
     "text": [
      "0.07352604283517507 0.07699025912412556\n"
     ]
    }
   ],
   "source": [
    "print(sigma_list(l),sigma(X,P)/sqrt(1000))"
   ]
  },
  {
   "cell_type": "markdown",
   "metadata": {},
   "source": [
    "# Justifions cela par la théorie disponible\n",
    "\n",
    "$\\displaystyle S_n = X_1 + X_2 + \\cdots + X_n = \\sum_{i=1}^n X_i$ d'où $V(S_n) = V(X_1) + V(X_2) + \\cdots + V(X_n) = V + V + \\cdots + V = nV = n \\sigma^2$\n",
    "\n",
    "$M_n = \\dfrac{S_n}{n}$ d'où $V(M_n) = V \\left( \\frac{1}{n} (S_n) \\right) = \\left( \\dfrac{1}{n} \\right) V(S_n) = \\left( \\dfrac{1}{n} \\right) n \\sigma^2 = \\dfrac{\\sigma^2}{n}$\n",
    "\n",
    "et l'écart type est $\\sigma (M_n)  =  \\sqrt{V(M_n)} = \\dfrac{\\sigma}{\\sqrt{n}}$\n",
    "\n",
    "\n",
    "\n"
   ]
  },
  {
   "cell_type": "code",
   "execution_count": null,
   "metadata": {},
   "outputs": [],
   "source": []
  }
 ],
 "metadata": {
  "kernelspec": {
   "display_name": "Python 3",
   "language": "python",
   "name": "python3"
  },
  "language_info": {
   "codemirror_mode": {
    "name": "ipython",
    "version": 3
   },
   "file_extension": ".py",
   "mimetype": "text/x-python",
   "name": "python",
   "nbconvert_exporter": "python",
   "pygments_lexer": "ipython3",
   "version": "3.7.3"
  }
 },
 "nbformat": 4,
 "nbformat_minor": 2
}
