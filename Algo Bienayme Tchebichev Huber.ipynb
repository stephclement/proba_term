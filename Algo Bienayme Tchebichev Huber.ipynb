{
 "cells": [
  {
   "cell_type": "markdown",
   "metadata": {},
   "source": [
    "---\n",
    "\n",
    "**Domaine** : probabilité\n",
    "\n",
    "**Secteur** : Concentration et loi des grands nombres\n",
    "\n",
    "**Exemple d'algorithmes** : \n",
    "\n",
    "On reprend la suite de l'activité d'Huber PROAL : \"Trouver un paquet de dés trucqués\".\n",
    "\n",
    "On se demande si l'inégalité de Bienaymé-Tchebychev permettrait de discriminer un dè truqué.\n",
    "\n",
    "---"
   ]
  },
  {
   "cell_type": "markdown",
   "metadata": {},
   "source": [
    "# Simulation d'une expérience de Bernoulli \n",
    "\n",
    "On va définir une fonction qui simule une expérience de Bernoulli. Elle renvoie $1$ pour \"succès\" et $0$ pour \"échec\".\n",
    "Il ne faut pas oublier d'importer la fonction `random` de la bibliothèque random de python."
   ]
  },
  {
   "cell_type": "code",
   "execution_count": 1,
   "metadata": {},
   "outputs": [],
   "source": [
    "from random import random\n",
    "\n",
    "def bernoulli(p):\n",
    "    \"\"\"Simule une expérience de Bernoulli de probabilité p\n",
    "    Retourne 1 pour succès et 0 pour échec\"\"\"\n",
    "    if random() < p :\n",
    "        return 1\n",
    "    else :\n",
    "        return 0"
   ]
  },
  {
   "cell_type": "code",
   "execution_count": 35,
   "metadata": {},
   "outputs": [
    {
     "data": {
      "text/plain": [
       "0"
      ]
     },
     "execution_count": 35,
     "metadata": {},
     "output_type": "execute_result"
    }
   ],
   "source": [
    "bernoulli(1/6)"
   ]
  },
  {
   "cell_type": "markdown",
   "metadata": {},
   "source": [
    "# Simulation d'une loi binomiale\n",
    "\n",
    "On répète cette expérience de Bernoulli $n$ fois pour simuler une $\\mathcal{B}(n,p)$."
   ]
  },
  {
   "cell_type": "code",
   "execution_count": 36,
   "metadata": {},
   "outputs": [],
   "source": [
    "def binomiale(n, p):\n",
    "    \"\"\"\"Retourne le nombre de succès dans un schéma de Bernoulli de paramètres p et n\n",
    "    n : nombre de répétions\n",
    "    p : proba\n",
    "    \"\"\"\n",
    "    S = 0 # Initialisation d'un compteur du nombre de succès\n",
    "    for i in range(n):\n",
    "        S = S + bernoulli(p) # lorsque qu'il y a réussite le compteur augmente de 1\n",
    "    return S"
   ]
  },
  {
   "cell_type": "markdown",
   "metadata": {},
   "source": [
    "Lancer 27 dès se simule de la façon suivante."
   ]
  },
  {
   "cell_type": "code",
   "execution_count": 30,
   "metadata": {},
   "outputs": [
    {
     "data": {
      "text/plain": [
       "3"
      ]
     },
     "execution_count": 30,
     "metadata": {},
     "output_type": "execute_result"
    }
   ],
   "source": [
    "binomiale(27,1/6)"
   ]
  },
  {
   "cell_type": "markdown",
   "metadata": {},
   "source": [
    "# Répétitions\n",
    "\n",
    "La troisième étape consiste : \n",
    "\n",
    "- à répéter $N$ fois cette loi binomiale,\n",
    "- à regarder si son écart avec l'espérance est supérieur à un certain $\\delta$ que l'on peut choisir (écart que l'on juggerait raisonnable).\n",
    "- à calculer la fréquence des expériences dans lesquelles l'écart à $E = np = 27 \\frac{1}{6} = 4,5$ est supérieur à $\\delta = 5 $ par exemple."
   ]
  },
  {
   "cell_type": "code",
   "execution_count": 31,
   "metadata": {},
   "outputs": [],
   "source": [
    "from math import sqrt\n",
    "\n",
    "def repet_binomiale(n, p, N, delta):\n",
    "    \"\"\"Répétition de N lois binomiales de paramètres n et p\n",
    "    renvoie la fréquence observée d'expériences telles que |S_n - 4,5|> delta\n",
    "    où 4,5 est l'espérance d'une binomiale avec n = 27 et p = 1/6\"\"\"\n",
    "    effectif = 0 # effectif de |binomiale(n, p) - 4.5| >= delta\n",
    "    for j in range(N):\n",
    "        if abs(binomiale(n, p) - 4.5) >= delta :\n",
    "            effectif = effectif + 1\n",
    "    return effectif / N"
   ]
  },
  {
   "cell_type": "markdown",
   "metadata": {},
   "source": [
    "## Simulation pour un dé non truqué"
   ]
  },
  {
   "cell_type": "code",
   "execution_count": 23,
   "metadata": {},
   "outputs": [
    {
     "data": {
      "text/plain": [
       "0.008"
      ]
     },
     "execution_count": 23,
     "metadata": {},
     "output_type": "execute_result"
    }
   ],
   "source": [
    "repet_binomiale(27, 1/6, 1000, 5)"
   ]
  },
  {
   "cell_type": "markdown",
   "metadata": {},
   "source": [
    "## Simulation pour un dé truqué\n",
    "\n",
    "Imaginons un dès trucqué dont la probabilité d'obtenir un 6 est $\\dfrac{1}{3}$."
   ]
  },
  {
   "cell_type": "code",
   "execution_count": 32,
   "metadata": {},
   "outputs": [
    {
     "data": {
      "text/plain": [
       "0.433"
      ]
     },
     "execution_count": 32,
     "metadata": {},
     "output_type": "execute_result"
    }
   ],
   "source": [
    "repet_binomiale(27, 1/3, 1000, 5)"
   ]
  },
  {
   "cell_type": "markdown",
   "metadata": {},
   "source": [
    "# Comparaison au résultat théorique\n",
    "\n",
    "Comparons de ce résultat à l'inégalité de Bienaymé Tchebitech.\n",
    "\n",
    "D'après le théorème de Bienaymé Tchebychev, on a :\n",
    "\n",
    "$P \\left( | S_n - E(S_n) | \\geq \\delta  \\right) \\leq \\dfrac{V(S_n)}{\\delta^2} $\n",
    "\n",
    "Or $E(S_n) = np = 27 \\times \\dfrac{1}{6} = 4,5$ et $V(S_n) = np(1-p) = 27 \\times \\dfrac{1}{6} \\times \\dfrac{5}{6} = \\dfrac{15}{4} = 3,75$\n",
    "\n",
    "D'où $P \\left( | S_n - 4,5 | \\geq 5  \\right) \\leq \\dfrac{3,75}{5^2}$\n",
    "\n",
    "Ou encore $P \\left( | S_n - 4,5 | \\geq 5  \\right) \\leq 0,15$\n",
    "\n",
    "**On peut donc discriminer le dés trucqué.**"
   ]
  },
  {
   "cell_type": "code",
   "execution_count": null,
   "metadata": {},
   "outputs": [],
   "source": []
  },
  {
   "cell_type": "code",
   "execution_count": null,
   "metadata": {},
   "outputs": [],
   "source": []
  }
 ],
 "metadata": {
  "kernelspec": {
   "display_name": "Python 3",
   "language": "python",
   "name": "python3"
  },
  "language_info": {
   "codemirror_mode": {
    "name": "ipython",
    "version": 3
   },
   "file_extension": ".py",
   "mimetype": "text/x-python",
   "name": "python",
   "nbconvert_exporter": "python",
   "pygments_lexer": "ipython3",
   "version": "3.7.3"
  }
 },
 "nbformat": 4,
 "nbformat_minor": 2
}
