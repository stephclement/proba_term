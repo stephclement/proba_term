{
 "cells": [
  {
   "cell_type": "markdown",
   "metadata": {},
   "source": [
    "---\n",
    "\n",
    "**Domaine** : probabilité\n",
    "\n",
    "**Secteur** : Concentration et loi des grands nombres\n",
    "\n",
    "**Exemple d'algorithmes** : \n",
    "Calculer la probabilité de $ |𝑆𝑛 − 𝑝𝑛 | > \\sqrt{𝑛}$, où $S_n$ est une variable aléatoire qui suit une loi binomiale de paramètres $n$ et $p$. Comparer avec l’inégalité de Bienaymé-Tchebychev.\n",
    "\n",
    "---"
   ]
  },
  {
   "cell_type": "markdown",
   "metadata": {},
   "source": [
    "# Simulation d'une expérience de Brenoulli \n",
    "\n",
    "On va définir une fonction qui simule une expérience de Bernoulli. Elle renvoie $1$ pour \"succès\" et $0$ pour \"échec\".\n",
    "Il ne faut pas oublier d'importer la fonction random de la bibliothèque random de python."
   ]
  },
  {
   "cell_type": "code",
   "execution_count": 1,
   "metadata": {},
   "outputs": [],
   "source": [
    "from random import random\n",
    "\n",
    "def bernoulli(p):\n",
    "    \"\"\"Simule une expérience de Bernoulli de probabilité p\n",
    "    Retourne 1 pour succès et 0 pour échec\"\"\"\n",
    "    if random()<p :\n",
    "        return 1\n",
    "    else :\n",
    "        return 0"
   ]
  },
  {
   "cell_type": "code",
   "execution_count": 2,
   "metadata": {},
   "outputs": [
    {
     "data": {
      "text/plain": [
       "1"
      ]
     },
     "execution_count": 2,
     "metadata": {},
     "output_type": "execute_result"
    }
   ],
   "source": [
    "bernoulli(0.5)"
   ]
  },
  {
   "cell_type": "markdown",
   "metadata": {},
   "source": [
    "# Simulation d'une loi binomiale\n",
    "\n",
    "On répète cette expérience de Bernoulli $n$ fois pour simuler une $\\mathcal{B}(n,p)$."
   ]
  },
  {
   "cell_type": "code",
   "execution_count": 40,
   "metadata": {},
   "outputs": [],
   "source": [
    "def binomiale(n,p):\n",
    "    \"\"\"\"Retourne le nombre de succès dans un schéma de Bernoulli de paramètres p et n\n",
    "    n : nombre de répétion\n",
    "    p : proba\n",
    "    \"\"\"\n",
    "    S=0\n",
    "    for i in range(n):\n",
    "        S = S + bernoulli(p)\n",
    "    return S"
   ]
  },
  {
   "cell_type": "markdown",
   "metadata": {},
   "source": [
    "# Répétitions\n",
    "\n",
    "La troisième étape consiste à répéter $N$ fois cette loi binomiale."
   ]
  },
  {
   "cell_type": "code",
   "execution_count": 43,
   "metadata": {},
   "outputs": [],
   "source": [
    "from math import sqrt\n",
    "\n",
    "def repet_binomiale(n,p,N):\n",
    "    \"\"\"Répétition de N loi binomiales de paramètres n et p\n",
    "    renvoi la fréquence de |Sn-pn|> sqrt(n)\"\"\"\n",
    "    effectif = 0\n",
    "    for j in range(N):\n",
    "        if abs( binomiale(n,p) - p*n ) > sqrt(n) :\n",
    "            effectif = effectif +1\n",
    "    return effectif/N"
   ]
  },
  {
   "cell_type": "code",
   "execution_count": 38,
   "metadata": {},
   "outputs": [
    {
     "data": {
      "text/plain": [
       "0.01266"
      ]
     },
     "execution_count": 38,
     "metadata": {},
     "output_type": "execute_result"
    }
   ],
   "source": [
    "repet_binomiale(1000,0.2,100000)"
   ]
  },
  {
   "cell_type": "markdown",
   "metadata": {},
   "source": [
    "# Comparaison au résultat théorique\n",
    "\n",
    "Comparons de ce résultat à l'inégalité de Bienaymé Tchebitech.\n",
    "\n",
    "D'après le théorème de Bienaymé Tchebychev, on a :\n",
    "\n",
    "$P \\left( | S_n - E(S_n) | \\geq \\sqrt{n}  \\right) \\leq \\dfrac{V(S_n)}{\\sqrt{n}^2} $\n",
    "\n",
    "Or $E(S_n) = np$ et $V(S_n) = np(1-p)$\n",
    "\n",
    "D'où $P \\left( | S_n - np | \\geq \\sqrt{n}  \\right) \\leq \\dfrac{np(1-p)}{n}$\n",
    "\n",
    "Ou encore $P \\left( | S_n - np | \\geq \\sqrt{n}  \\right) \\leq p(1-p) $"
   ]
  },
  {
   "cell_type": "markdown",
   "metadata": {},
   "source": [
    "Avec $p(1-p)=0,1 \\times 0,9 = 0,09$"
   ]
  }
 ],
 "metadata": {
  "kernelspec": {
   "display_name": "Python 3",
   "language": "python",
   "name": "python3"
  },
  "language_info": {
   "codemirror_mode": {
    "name": "ipython",
    "version": 3
   },
   "file_extension": ".py",
   "mimetype": "text/x-python",
   "name": "python",
   "nbconvert_exporter": "python",
   "pygments_lexer": "ipython3",
   "version": "3.7.3"
  }
 },
 "nbformat": 4,
 "nbformat_minor": 2
}
